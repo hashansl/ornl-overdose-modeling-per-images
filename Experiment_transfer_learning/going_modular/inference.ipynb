{
 "cells": [
  {
   "cell_type": "markdown",
   "metadata": {},
   "source": [
    "### Predict next year results using previous year model"
   ]
  },
  {
   "cell_type": "code",
   "execution_count": 1,
   "metadata": {},
   "outputs": [],
   "source": [
    "# Load Libraries\n",
    "import numpy as np\n",
    "import pandas as pd\n",
    "\n",
    "import torch\n",
    "import torch.nn as nn\n",
    "import torch.optim as optim\n",
    "\n",
    "from torchvision import transforms\n",
    "import data_loader\n",
    "import model_builder\n",
    "from torch.utils.data import DataLoader\n",
    "from sklearn.metrics import confusion_matrix\n",
    "import matplotlib.pyplot as plt"
   ]
  },
  {
   "cell_type": "code",
   "execution_count": 2,
   "metadata": {},
   "outputs": [],
   "source": [
    "model_path = '/home/h6x/git_projects/overdose_modeling/SEResNet_15_channels/models/trained_models/se_restnet_2018_80_data.pth'"
   ]
  },
  {
   "cell_type": "code",
   "execution_count": 3,
   "metadata": {},
   "outputs": [],
   "source": [
    "# Setup target device\n",
    "device = \"cuda\" if torch.cuda.is_available() else \"cpu\""
   ]
  },
  {
   "cell_type": "code",
   "execution_count": 4,
   "metadata": {},
   "outputs": [],
   "source": [
    "# Create a new model instance\n",
    "CONFIG_NAME = 50\n",
    "model = model_builder.SEResNet(CONFIG_NAME).to(device)"
   ]
  },
  {
   "cell_type": "code",
   "execution_count": 5,
   "metadata": {},
   "outputs": [],
   "source": [
    "# Load the saved model state dictionary\n",
    "checkpoint = torch.load(model_path)"
   ]
  },
  {
   "cell_type": "code",
   "execution_count": 6,
   "metadata": {},
   "outputs": [
    {
     "data": {
      "text/plain": [
       "<All keys matched successfully>"
      ]
     },
     "execution_count": 6,
     "metadata": {},
     "output_type": "execute_result"
    }
   ],
   "source": [
    "# Load the saved model weights\n",
    "model.load_state_dict(checkpoint['model_state_dict'])"
   ]
  },
  {
   "cell_type": "code",
   "execution_count": 7,
   "metadata": {},
   "outputs": [
    {
     "data": {
      "text/plain": [
       "SEResNet(\n",
       "  (blocks): ModuleList(\n",
       "    (0): ResNetBlock(\n",
       "      (p): ConvBlock(\n",
       "        (c): Conv2d(64, 256, kernel_size=(1, 1), stride=(1, 1), bias=False)\n",
       "        (bn): BatchNorm2d(256, eps=1e-05, momentum=0.1, affine=True, track_running_stats=True)\n",
       "      )\n",
       "      (c1): ConvBlock(\n",
       "        (c): Conv2d(64, 64, kernel_size=(1, 1), stride=(1, 1), bias=False)\n",
       "        (bn): BatchNorm2d(64, eps=1e-05, momentum=0.1, affine=True, track_running_stats=True)\n",
       "      )\n",
       "      (c2): ConvBlock(\n",
       "        (c): Conv2d(64, 64, kernel_size=(3, 3), stride=(1, 1), padding=(1, 1), bias=False)\n",
       "        (bn): BatchNorm2d(64, eps=1e-05, momentum=0.1, affine=True, track_running_stats=True)\n",
       "      )\n",
       "      (c3): ConvBlock(\n",
       "        (c): Conv2d(64, 256, kernel_size=(1, 1), stride=(1, 1), bias=False)\n",
       "        (bn): BatchNorm2d(256, eps=1e-05, momentum=0.1, affine=True, track_running_stats=True)\n",
       "      )\n",
       "      (relu): ReLU()\n",
       "      (seblock): SeBlock(\n",
       "        (globpool): AdaptiveAvgPool2d(output_size=(1, 1))\n",
       "        (fc1): Linear(in_features=256, out_features=16, bias=False)\n",
       "        (fc2): Linear(in_features=16, out_features=256, bias=False)\n",
       "        (relu): ReLU()\n",
       "        (sigmoid): Sigmoid()\n",
       "      )\n",
       "    )\n",
       "    (1-2): 2 x ResNetBlock(\n",
       "      (c1): ConvBlock(\n",
       "        (c): Conv2d(256, 64, kernel_size=(1, 1), stride=(1, 1), bias=False)\n",
       "        (bn): BatchNorm2d(64, eps=1e-05, momentum=0.1, affine=True, track_running_stats=True)\n",
       "      )\n",
       "      (c2): ConvBlock(\n",
       "        (c): Conv2d(64, 64, kernel_size=(3, 3), stride=(1, 1), padding=(1, 1), bias=False)\n",
       "        (bn): BatchNorm2d(64, eps=1e-05, momentum=0.1, affine=True, track_running_stats=True)\n",
       "      )\n",
       "      (c3): ConvBlock(\n",
       "        (c): Conv2d(64, 256, kernel_size=(1, 1), stride=(1, 1), bias=False)\n",
       "        (bn): BatchNorm2d(256, eps=1e-05, momentum=0.1, affine=True, track_running_stats=True)\n",
       "      )\n",
       "      (relu): ReLU()\n",
       "      (seblock): SeBlock(\n",
       "        (globpool): AdaptiveAvgPool2d(output_size=(1, 1))\n",
       "        (fc1): Linear(in_features=256, out_features=16, bias=False)\n",
       "        (fc2): Linear(in_features=16, out_features=256, bias=False)\n",
       "        (relu): ReLU()\n",
       "        (sigmoid): Sigmoid()\n",
       "      )\n",
       "    )\n",
       "    (3): ResNetBlock(\n",
       "      (p): ConvBlock(\n",
       "        (c): Conv2d(256, 512, kernel_size=(1, 1), stride=(2, 2), bias=False)\n",
       "        (bn): BatchNorm2d(512, eps=1e-05, momentum=0.1, affine=True, track_running_stats=True)\n",
       "      )\n",
       "      (c1): ConvBlock(\n",
       "        (c): Conv2d(256, 128, kernel_size=(1, 1), stride=(1, 1), bias=False)\n",
       "        (bn): BatchNorm2d(128, eps=1e-05, momentum=0.1, affine=True, track_running_stats=True)\n",
       "      )\n",
       "      (c2): ConvBlock(\n",
       "        (c): Conv2d(128, 128, kernel_size=(3, 3), stride=(2, 2), padding=(1, 1), bias=False)\n",
       "        (bn): BatchNorm2d(128, eps=1e-05, momentum=0.1, affine=True, track_running_stats=True)\n",
       "      )\n",
       "      (c3): ConvBlock(\n",
       "        (c): Conv2d(128, 512, kernel_size=(1, 1), stride=(1, 1), bias=False)\n",
       "        (bn): BatchNorm2d(512, eps=1e-05, momentum=0.1, affine=True, track_running_stats=True)\n",
       "      )\n",
       "      (relu): ReLU()\n",
       "      (seblock): SeBlock(\n",
       "        (globpool): AdaptiveAvgPool2d(output_size=(1, 1))\n",
       "        (fc1): Linear(in_features=512, out_features=32, bias=False)\n",
       "        (fc2): Linear(in_features=32, out_features=512, bias=False)\n",
       "        (relu): ReLU()\n",
       "        (sigmoid): Sigmoid()\n",
       "      )\n",
       "    )\n",
       "    (4-6): 3 x ResNetBlock(\n",
       "      (c1): ConvBlock(\n",
       "        (c): Conv2d(512, 128, kernel_size=(1, 1), stride=(1, 1), bias=False)\n",
       "        (bn): BatchNorm2d(128, eps=1e-05, momentum=0.1, affine=True, track_running_stats=True)\n",
       "      )\n",
       "      (c2): ConvBlock(\n",
       "        (c): Conv2d(128, 128, kernel_size=(3, 3), stride=(1, 1), padding=(1, 1), bias=False)\n",
       "        (bn): BatchNorm2d(128, eps=1e-05, momentum=0.1, affine=True, track_running_stats=True)\n",
       "      )\n",
       "      (c3): ConvBlock(\n",
       "        (c): Conv2d(128, 512, kernel_size=(1, 1), stride=(1, 1), bias=False)\n",
       "        (bn): BatchNorm2d(512, eps=1e-05, momentum=0.1, affine=True, track_running_stats=True)\n",
       "      )\n",
       "      (relu): ReLU()\n",
       "      (seblock): SeBlock(\n",
       "        (globpool): AdaptiveAvgPool2d(output_size=(1, 1))\n",
       "        (fc1): Linear(in_features=512, out_features=32, bias=False)\n",
       "        (fc2): Linear(in_features=32, out_features=512, bias=False)\n",
       "        (relu): ReLU()\n",
       "        (sigmoid): Sigmoid()\n",
       "      )\n",
       "    )\n",
       "    (7): ResNetBlock(\n",
       "      (p): ConvBlock(\n",
       "        (c): Conv2d(512, 1024, kernel_size=(1, 1), stride=(2, 2), bias=False)\n",
       "        (bn): BatchNorm2d(1024, eps=1e-05, momentum=0.1, affine=True, track_running_stats=True)\n",
       "      )\n",
       "      (c1): ConvBlock(\n",
       "        (c): Conv2d(512, 256, kernel_size=(1, 1), stride=(1, 1), bias=False)\n",
       "        (bn): BatchNorm2d(256, eps=1e-05, momentum=0.1, affine=True, track_running_stats=True)\n",
       "      )\n",
       "      (c2): ConvBlock(\n",
       "        (c): Conv2d(256, 256, kernel_size=(3, 3), stride=(2, 2), padding=(1, 1), bias=False)\n",
       "        (bn): BatchNorm2d(256, eps=1e-05, momentum=0.1, affine=True, track_running_stats=True)\n",
       "      )\n",
       "      (c3): ConvBlock(\n",
       "        (c): Conv2d(256, 1024, kernel_size=(1, 1), stride=(1, 1), bias=False)\n",
       "        (bn): BatchNorm2d(1024, eps=1e-05, momentum=0.1, affine=True, track_running_stats=True)\n",
       "      )\n",
       "      (relu): ReLU()\n",
       "      (seblock): SeBlock(\n",
       "        (globpool): AdaptiveAvgPool2d(output_size=(1, 1))\n",
       "        (fc1): Linear(in_features=1024, out_features=64, bias=False)\n",
       "        (fc2): Linear(in_features=64, out_features=1024, bias=False)\n",
       "        (relu): ReLU()\n",
       "        (sigmoid): Sigmoid()\n",
       "      )\n",
       "    )\n",
       "    (8-12): 5 x ResNetBlock(\n",
       "      (c1): ConvBlock(\n",
       "        (c): Conv2d(1024, 256, kernel_size=(1, 1), stride=(1, 1), bias=False)\n",
       "        (bn): BatchNorm2d(256, eps=1e-05, momentum=0.1, affine=True, track_running_stats=True)\n",
       "      )\n",
       "      (c2): ConvBlock(\n",
       "        (c): Conv2d(256, 256, kernel_size=(3, 3), stride=(1, 1), padding=(1, 1), bias=False)\n",
       "        (bn): BatchNorm2d(256, eps=1e-05, momentum=0.1, affine=True, track_running_stats=True)\n",
       "      )\n",
       "      (c3): ConvBlock(\n",
       "        (c): Conv2d(256, 1024, kernel_size=(1, 1), stride=(1, 1), bias=False)\n",
       "        (bn): BatchNorm2d(1024, eps=1e-05, momentum=0.1, affine=True, track_running_stats=True)\n",
       "      )\n",
       "      (relu): ReLU()\n",
       "      (seblock): SeBlock(\n",
       "        (globpool): AdaptiveAvgPool2d(output_size=(1, 1))\n",
       "        (fc1): Linear(in_features=1024, out_features=64, bias=False)\n",
       "        (fc2): Linear(in_features=64, out_features=1024, bias=False)\n",
       "        (relu): ReLU()\n",
       "        (sigmoid): Sigmoid()\n",
       "      )\n",
       "    )\n",
       "    (13): ResNetBlock(\n",
       "      (p): ConvBlock(\n",
       "        (c): Conv2d(1024, 2048, kernel_size=(1, 1), stride=(2, 2), bias=False)\n",
       "        (bn): BatchNorm2d(2048, eps=1e-05, momentum=0.1, affine=True, track_running_stats=True)\n",
       "      )\n",
       "      (c1): ConvBlock(\n",
       "        (c): Conv2d(1024, 512, kernel_size=(1, 1), stride=(1, 1), bias=False)\n",
       "        (bn): BatchNorm2d(512, eps=1e-05, momentum=0.1, affine=True, track_running_stats=True)\n",
       "      )\n",
       "      (c2): ConvBlock(\n",
       "        (c): Conv2d(512, 512, kernel_size=(3, 3), stride=(2, 2), padding=(1, 1), bias=False)\n",
       "        (bn): BatchNorm2d(512, eps=1e-05, momentum=0.1, affine=True, track_running_stats=True)\n",
       "      )\n",
       "      (c3): ConvBlock(\n",
       "        (c): Conv2d(512, 2048, kernel_size=(1, 1), stride=(1, 1), bias=False)\n",
       "        (bn): BatchNorm2d(2048, eps=1e-05, momentum=0.1, affine=True, track_running_stats=True)\n",
       "      )\n",
       "      (relu): ReLU()\n",
       "      (seblock): SeBlock(\n",
       "        (globpool): AdaptiveAvgPool2d(output_size=(1, 1))\n",
       "        (fc1): Linear(in_features=2048, out_features=128, bias=False)\n",
       "        (fc2): Linear(in_features=128, out_features=2048, bias=False)\n",
       "        (relu): ReLU()\n",
       "        (sigmoid): Sigmoid()\n",
       "      )\n",
       "    )\n",
       "    (14-15): 2 x ResNetBlock(\n",
       "      (c1): ConvBlock(\n",
       "        (c): Conv2d(2048, 512, kernel_size=(1, 1), stride=(1, 1), bias=False)\n",
       "        (bn): BatchNorm2d(512, eps=1e-05, momentum=0.1, affine=True, track_running_stats=True)\n",
       "      )\n",
       "      (c2): ConvBlock(\n",
       "        (c): Conv2d(512, 512, kernel_size=(3, 3), stride=(1, 1), padding=(1, 1), bias=False)\n",
       "        (bn): BatchNorm2d(512, eps=1e-05, momentum=0.1, affine=True, track_running_stats=True)\n",
       "      )\n",
       "      (c3): ConvBlock(\n",
       "        (c): Conv2d(512, 2048, kernel_size=(1, 1), stride=(1, 1), bias=False)\n",
       "        (bn): BatchNorm2d(2048, eps=1e-05, momentum=0.1, affine=True, track_running_stats=True)\n",
       "      )\n",
       "      (relu): ReLU()\n",
       "      (seblock): SeBlock(\n",
       "        (globpool): AdaptiveAvgPool2d(output_size=(1, 1))\n",
       "        (fc1): Linear(in_features=2048, out_features=128, bias=False)\n",
       "        (fc2): Linear(in_features=128, out_features=2048, bias=False)\n",
       "        (relu): ReLU()\n",
       "        (sigmoid): Sigmoid()\n",
       "      )\n",
       "    )\n",
       "  )\n",
       "  (conv1): ConvBlock(\n",
       "    (c): Conv2d(15, 64, kernel_size=(7, 7), stride=(2, 2), padding=(3, 3), bias=False)\n",
       "    (bn): BatchNorm2d(64, eps=1e-05, momentum=0.1, affine=True, track_running_stats=True)\n",
       "  )\n",
       "  (maxpool): MaxPool2d(kernel_size=3, stride=2, padding=1, dilation=1, ceil_mode=False)\n",
       "  (avgpool): AdaptiveAvgPool2d(output_size=(1, 1))\n",
       "  (fc): Linear(in_features=2048, out_features=2, bias=True)\n",
       "  (relu): ReLU()\n",
       ")"
      ]
     },
     "execution_count": 7,
     "metadata": {},
     "output_type": "execute_result"
    }
   ],
   "source": [
    "# Set the model to evaluation mode\n",
    "model.eval()"
   ]
  },
  {
   "cell_type": "code",
   "execution_count": 8,
   "metadata": {},
   "outputs": [],
   "source": [
    "# Create transforms for the new dataset\n",
    "data_transform = transforms.Compose([\n",
    "    transforms.ToTensor()\n",
    "])"
   ]
  },
  {
   "cell_type": "code",
   "execution_count": 9,
   "metadata": {},
   "outputs": [],
   "source": [
    "# Setup directories for the new dataset\n",
    "\n",
    "# change 80.90,95 in both paths depending on the model used\n",
    "\n",
    "# next year - 2020\n",
    "# new_root_dir = \"/home/h6x/git_projects/data_processing/processed_data/adjacency_pers_images_npy_county/2020/experimet_3/npy_combined\"\n",
    "# new_annotation_file_path = \"/home/h6x/git_projects/data_processing/processed_data/adjacency_pers_images_npy_county/2020/experimet_3/annotations_2020_npy_2_classes_only_h0h1_80_percentile_all_data.csv\"\n",
    "\n",
    "#same year - 2018\n",
    "new_root_dir = \"/home/h6x/git_projects/data_processing/processed_data/adjacency_pers_images_npy_county/experimet_3/npy_combined\"\n",
    "new_annotation_file_path = \"/home/h6x/git_projects/data_processing/processed_data/adjacency_pers_images_npy_county/experimet_3/annotations_2018_npy_2_classes_only_h0h1_80_percentile_all_data.csv\""
   ]
  },
  {
   "cell_type": "code",
   "execution_count": 10,
   "metadata": {},
   "outputs": [],
   "source": [
    "all_data = pd.read_csv(new_annotation_file_path)"
   ]
  },
  {
   "cell_type": "code",
   "execution_count": 11,
   "metadata": {},
   "outputs": [
    {
     "name": "stdout",
     "output_type": "stream",
     "text": [
      "OD_class\n",
      "0    2154\n",
      "1     586\n",
      "Name: count, dtype: int64\n"
     ]
    }
   ],
   "source": [
    "# get count of each class on the \"OD_class\" column\n",
    "print(all_data['OD_class'].value_counts())"
   ]
  },
  {
   "cell_type": "code",
   "execution_count": 12,
   "metadata": {},
   "outputs": [],
   "source": [
    "BATCH_SIZE = 64"
   ]
  },
  {
   "cell_type": "code",
   "execution_count": 13,
   "metadata": {},
   "outputs": [],
   "source": [
    "# import the dataset\n",
    "data_set = data_loader.data_loader_persistence_img(annotation_file_path=new_annotation_file_path, root_dir=new_root_dir, transform=data_transform)"
   ]
  },
  {
   "cell_type": "code",
   "execution_count": 14,
   "metadata": {},
   "outputs": [],
   "source": [
    "# Get class names\n",
    "class_names = data_set.get_class_names()"
   ]
  },
  {
   "cell_type": "code",
   "execution_count": 15,
   "metadata": {},
   "outputs": [
    {
     "data": {
      "text/plain": [
       "[0, 1]"
      ]
     },
     "execution_count": 15,
     "metadata": {},
     "output_type": "execute_result"
    }
   ],
   "source": [
    "class_names"
   ]
  },
  {
   "cell_type": "code",
   "execution_count": 16,
   "metadata": {},
   "outputs": [],
   "source": [
    "import os\n",
    "NUM_WORKERS = os.cpu_count()"
   ]
  },
  {
   "cell_type": "code",
   "execution_count": 17,
   "metadata": {},
   "outputs": [],
   "source": [
    "# Turn images into data loaders\n",
    "new_dataloader = DataLoader(\n",
    "      data_set,\n",
    "      batch_size=BATCH_SIZE,\n",
    "      shuffle=False,\n",
    "      num_workers=NUM_WORKERS,\n",
    "      pin_memory=True,\n",
    "  )"
   ]
  },
  {
   "cell_type": "code",
   "execution_count": 18,
   "metadata": {},
   "outputs": [],
   "source": [
    "def predict_and_evaluate(model, dataloader, device):\n",
    "    model.to(device)\n",
    "    model.eval()  # Set model to evaluation mode\n",
    "    all_preds = []\n",
    "    all_labels = []\n",
    "    with torch.no_grad():\n",
    "        for images, labels in dataloader:\n",
    "            images = images.to(device)\n",
    "            labels = labels.to(device)\n",
    "            outputs = model(images)\n",
    "            _, preds = torch.max(outputs, 1)\n",
    "            all_preds.extend(preds.cpu().numpy())\n",
    "            all_labels.extend(labels.cpu().numpy())\n",
    "    return np.array(all_labels), np.array(all_preds)"
   ]
  },
  {
   "cell_type": "code",
   "execution_count": 19,
   "metadata": {},
   "outputs": [
    {
     "name": "stderr",
     "output_type": "stream",
     "text": [
      "/home/h6x/miniconda3/envs/pytorch_env/lib/python3.12/site-packages/torch/nn/modules/conv.py:456: UserWarning: Plan failed with a cudnnException: CUDNN_BACKEND_EXECUTION_PLAN_DESCRIPTOR: cudnnFinalize Descriptor Failed cudnn_status: CUDNN_STATUS_NOT_SUPPORTED (Triggered internally at ../aten/src/ATen/native/cudnn/Conv_v8.cpp:919.)\n",
      "  return F.conv2d(input, weight, bias, self.stride,\n"
     ]
    }
   ],
   "source": [
    "# Make predictions and collect the ground truth labels\n",
    "y_true, y_pred = predict_and_evaluate(model, new_dataloader, device)"
   ]
  },
  {
   "cell_type": "code",
   "execution_count": 20,
   "metadata": {},
   "outputs": [],
   "source": [
    "conf_matrix = confusion_matrix(y_true, y_pred)"
   ]
  },
  {
   "cell_type": "code",
   "execution_count": 21,
   "metadata": {},
   "outputs": [
    {
     "name": "stdout",
     "output_type": "stream",
     "text": [
      "Class 0 - TPR: 0.87, FPR: 0.50, FNR: 0.13\n",
      "Class 1 - TPR: 0.50, FPR: 0.13, FNR: 0.50\n"
     ]
    }
   ],
   "source": [
    "# Function to calculate TPR and FPR for each class\n",
    "def calculate_tpr_fpr(conf_matrix):\n",
    "    num_classes = conf_matrix.shape[0]\n",
    "    TPR = np.zeros(num_classes)\n",
    "    FPR = np.zeros(num_classes)\n",
    "    FNR = np.zeros(num_classes)\n",
    "    \n",
    "    for i in range(num_classes):\n",
    "        TP = conf_matrix[i, i]\n",
    "        FN = np.sum(conf_matrix[i, :]) - TP\n",
    "        FP = np.sum(conf_matrix[:, i]) - TP\n",
    "        TN = np.sum(conf_matrix) - (TP + FN + FP)\n",
    "        \n",
    "        TPR[i] = TP / (TP + FN) if (TP + FN) != 0 else 0\n",
    "        FPR[i] = FP / (FP + TN) if (FP + TN) != 0 else 0\n",
    "        FNR[i] = FN / (TP + FN) if (TP + FN) != 0 else 0\n",
    "    \n",
    "    return TPR, FPR, FNR\n",
    "\n",
    "# Calculate TPR and FPR\n",
    "TPR, FPR, FNR = calculate_tpr_fpr(conf_matrix)\n",
    "\n",
    "# Print TPR and FPR for each class\n",
    "for idx, class_name in enumerate(class_names):\n",
    "    print(f\"Class {class_name} - TPR: {TPR[idx]:.2f}, FPR: {FPR[idx]:.2f}, FNR: {FNR[idx]:.2f}\")"
   ]
  },
  {
   "cell_type": "code",
   "execution_count": 22,
   "metadata": {},
   "outputs": [],
   "source": [
    "import seaborn as sns"
   ]
  },
  {
   "cell_type": "code",
   "execution_count": 23,
   "metadata": {},
   "outputs": [],
   "source": [
    "# Plot confusion matrix\n",
    "def plot_confusion_matrix(conf_matrix, class_names):\n",
    "    plt.figure(figsize=(10, 7))\n",
    "    sns.heatmap(conf_matrix, annot=True, fmt='d', cmap='Blues', cbar=False, \n",
    "                xticklabels=class_names, yticklabels=class_names)\n",
    "    plt.xlabel('Predicted')\n",
    "    plt.ylabel('True')\n",
    "    plt.title('Confusion Matrix')\n",
    "    plt.show()\n",
    "    # plt.savefig('/home/h6x/git_projects/overdose_modeling/SEResNet_15_channels/plots/confusion_matrix_95_percentile_2020_prediction.png')"
   ]
  },
  {
   "cell_type": "code",
   "execution_count": 24,
   "metadata": {},
   "outputs": [
    {
     "data": {
      "image/png": "[encoded data removed]",
      "text/plain": [
       "<Figure size 1000x700 with 1 Axes>"
      ]
     },
     "metadata": {},
     "output_type": "display_data"
    }
   ],
   "source": [
    "# Plot the confusion matrix\n",
    "plot_confusion_matrix(conf_matrix, class_names)"
   ]
  },
  {
   "cell_type": "code",
   "execution_count": null,
   "metadata": {},
   "outputs": [],
   "source": []
  }
 ],
 "metadata": {
  "kernelspec": {
   "display_name": "pytorch_env",
   "language": "python",
   "name": "python3"
  },
  "language_info": {
   "codemirror_mode": {
    "name": "ipython",
    "version": 3
   },
   "file_extension": ".py",
   "mimetype": "text/x-python",
   "name": "python",
   "nbconvert_exporter": "python",
   "pygments_lexer": "ipython3",
   "version": "3.12.3"
  }
 },
 "nbformat": 4,
 "nbformat_minor": 2
}
