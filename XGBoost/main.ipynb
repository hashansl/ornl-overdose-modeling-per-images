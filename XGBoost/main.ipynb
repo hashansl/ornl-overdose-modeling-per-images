{
 "cells": [
  {
   "cell_type": "code",
   "execution_count": 7,
   "metadata": {},
   "outputs": [],
   "source": [
    "import numpy as np\n",
    "import matplotlib.pyplot as plt\n",
    "import pandas as pd"
   ]
  },
  {
   "cell_type": "code",
   "execution_count": 1,
   "metadata": {},
   "outputs": [],
   "source": [
    "# get all the file names in the directory\n",
    "import os\n",
    "import sys\n",
    "\n",
    "def get_files(directory):\n",
    "    files = []\n",
    "    for file in os.listdir(directory):\n",
    "        if os.path.isfile(os.path.join(directory, file)):\n",
    "            files.append(file)\n",
    "    return files"
   ]
  },
  {
   "cell_type": "code",
   "execution_count": 9,
   "metadata": {},
   "outputs": [],
   "source": [
    "base_dir = \"/home/h6x/git_projects/ornl-svi-data-processing/experiment_2/processed_data_1/npy_combined\""
   ]
  },
  {
   "cell_type": "code",
   "execution_count": 3,
   "metadata": {},
   "outputs": [],
   "source": [
    "files = get_files(\"/home/h6x/git_projects/ornl-svi-data-processing/experiment_2/processed_data_1/npy_combined\")"
   ]
  },
  {
   "cell_type": "code",
   "execution_count": 5,
   "metadata": {},
   "outputs": [
    {
     "data": {
      "text/plain": [
       "2746"
      ]
     },
     "execution_count": 5,
     "metadata": {},
     "output_type": "execute_result"
    }
   ],
   "source": [
    "len(files)"
   ]
  },
  {
   "cell_type": "code",
   "execution_count": 13,
   "metadata": {},
   "outputs": [
    {
     "name": "stdout",
     "output_type": "stream",
     "text": [
      "16075.npy\n",
      "(100, 100, 15)\n",
      "Channel 0 shape: (100, 100)\n",
      "Column shape: (100,)\n",
      "Mean: 0.193742239570469\n",
      "Channel 1 shape: (100, 100)\n",
      "Column shape: (100,)\n",
      "Mean: 0.07698927427701253\n",
      "Channel 2 shape: (100, 100)\n",
      "Column shape: (100,)\n",
      "Mean: 0.23054480476388084\n",
      "Channel 3 shape: (100, 100)\n",
      "Column shape: (100,)\n",
      "Mean: 0.16751512419540698\n",
      "Channel 4 shape: (100, 100)\n",
      "Column shape: (100,)\n",
      "Mean: 0.23096782283103853\n",
      "Channel 5 shape: (100, 100)\n",
      "Column shape: (100,)\n",
      "Mean: 0.3506819141730797\n",
      "Channel 6 shape: (100, 100)\n",
      "Column shape: (100,)\n",
      "Mean: 0.2504266503955582\n",
      "Channel 7 shape: (100, 100)\n",
      "Column shape: (100,)\n",
      "Mean: 0.09602508380457744\n",
      "Channel 8 shape: (100, 100)\n",
      "Column shape: (100,)\n",
      "Mean: 0.03637322653396974\n",
      "Channel 9 shape: (100, 100)\n",
      "Column shape: (100,)\n",
      "Mean: 0.30414993521163375\n",
      "Channel 10 shape: (100, 100)\n",
      "Column shape: (100,)\n",
      "Mean: 0.045933452233409895\n",
      "Channel 11 shape: (100, 100)\n",
      "Column shape: (100,)\n",
      "Mean: 0.1903580957513702\n",
      "Channel 12 shape: (100, 100)\n",
      "Column shape: (100,)\n",
      "Mean: 0.08756472399470958\n",
      "Channel 13 shape: (100, 100)\n",
      "Column shape: (100,)\n",
      "Mean: 0.04102766011917407\n",
      "Channel 14 shape: (100, 100)\n",
      "Column shape: (100,)\n",
      "Mean: 0.012695269748996567\n"
     ]
    }
   ],
   "source": [
    "\n",
    "\n",
    "for file in files:\n",
    "    print(file)\n",
    "    # load the npy file\n",
    "    data = np.load(os.path.join(base_dir, file))\n",
    "    print(data.shape)\n",
    "\n",
    "    for i in range(data.shape[2]):\n",
    "        channel = data[:, :, i]  # Extract the i-th channel\n",
    "        print(f\"Channel {i} shape: {channel.shape}\")\n",
    "\n",
    "        # get the first column of the channel\n",
    "        column = channel[:, 0]\n",
    "        print(f\"Column shape: {column.shape}\")\n",
    "        # print the mean of the column\n",
    "        print(f\"Mean: {np.mean(column)}\")\n",
    "\n",
    "\n",
    "\n",
    "    break"
   ]
  },
  {
   "cell_type": "code",
   "execution_count": 23,
   "metadata": {},
   "outputs": [
    {
     "name": "stdout",
     "output_type": "stream",
     "text": [
      "Processing file: 16075.npy\n",
      "Data shape: (100, 100, 15)\n",
      "Processing channel: 0\n",
      "Processing channel: 1\n",
      "Processing channel: 2\n",
      "Processing channel: 3\n",
      "Processing channel: 4\n",
      "Processing channel: 5\n",
      "Processing channel: 6\n",
      "Processing channel: 7\n",
      "Processing channel: 8\n",
      "Processing channel: 9\n",
      "Processing channel: 10\n",
      "Processing channel: 11\n",
      "Processing channel: 12\n",
      "Processing channel: 13\n",
      "Processing channel: 14\n"
     ]
    }
   ],
   "source": [
    "# Initialize an empty DataFrame\n",
    "df = pd.DataFrame()\n",
    "\n",
    "# Process each file\n",
    "for file in files:\n",
    "    print(f\"Processing file: {file}\")\n",
    "    \n",
    "    # Load the npy file\n",
    "    data = np.load(os.path.join(base_dir, file))\n",
    "    print(f\"Data shape: {data.shape}\")\n",
    "\n",
    "    # Initialize a dictionary to store columns for the current file\n",
    "    file_data = {'file_name': file}  # First column is the file name\n",
    "    \n",
    "    # Extract columns from each channel\n",
    "\n",
    "    for i in range(data.shape[2]):  # Loop through channels\n",
    "\n",
    "        print(f\"Processing channel: {i}\")\n",
    "\n",
    "        channel = data[:, :, i]     # Extract the i-th channel\n",
    "\n",
    "        col_name = f'channel_{i}_col_0'  # Create a unique column name\n",
    "    \n",
    "    \n",
    "    file_data[col_name] = channel[:, 0]  # Add the column to the dictionary\n",
    "    \n",
    "    # Add the data for the file into the DataFrame\n",
    "    df = pd.concat([df, pd.DataFrame(file_data)], ignore_index=True)\n",
    "\n",
    "    # Uncomment the following line to process only one file for testing\n",
    "    break\n"
   ]
  },
  {
   "cell_type": "code",
   "execution_count": 24,
   "metadata": {},
   "outputs": [
    {
     "data": {
      "text/html": [
       "<div>\n",
       "<style scoped>\n",
       "    .dataframe tbody tr th:only-of-type {\n",
       "        vertical-align: middle;\n",
       "    }\n",
       "\n",
       "    .dataframe tbody tr th {\n",
       "        vertical-align: top;\n",
       "    }\n",
       "\n",
       "    .dataframe thead th {\n",
       "        text-align: right;\n",
       "    }\n",
       "</style>\n",
       "<table border=\"1\" class=\"dataframe\">\n",
       "  <thead>\n",
       "    <tr style=\"text-align: right;\">\n",
       "      <th></th>\n",
       "      <th>file_name</th>\n",
       "      <th>channel_0_col_0</th>\n",
       "      <th>channel_1_col_0</th>\n",
       "      <th>channel_2_col_0</th>\n",
       "      <th>channel_3_col_0</th>\n",
       "      <th>channel_4_col_0</th>\n",
       "      <th>channel_5_col_0</th>\n",
       "      <th>channel_6_col_0</th>\n",
       "      <th>channel_7_col_0</th>\n",
       "      <th>channel_8_col_0</th>\n",
       "      <th>channel_9_col_0</th>\n",
       "      <th>channel_10_col_0</th>\n",
       "      <th>channel_11_col_0</th>\n",
       "      <th>channel_12_col_0</th>\n",
       "      <th>channel_13_col_0</th>\n",
       "      <th>channel_14_col_0</th>\n",
       "    </tr>\n",
       "  </thead>\n",
       "  <tbody>\n",
       "    <tr>\n",
       "      <th>0</th>\n",
       "      <td>16075.npy</td>\n",
       "      <td>0.0</td>\n",
       "      <td>0.0</td>\n",
       "      <td>0.0</td>\n",
       "      <td>0.0</td>\n",
       "      <td>0.0</td>\n",
       "      <td>0.0</td>\n",
       "      <td>0.0</td>\n",
       "      <td>0.0</td>\n",
       "      <td>0.0</td>\n",
       "      <td>0.0</td>\n",
       "      <td>0.0</td>\n",
       "      <td>0.0</td>\n",
       "      <td>0.0</td>\n",
       "      <td>0.0</td>\n",
       "      <td>0.0</td>\n",
       "    </tr>\n",
       "    <tr>\n",
       "      <th>1</th>\n",
       "      <td>16075.npy</td>\n",
       "      <td>0.0</td>\n",
       "      <td>0.0</td>\n",
       "      <td>0.0</td>\n",
       "      <td>0.0</td>\n",
       "      <td>0.0</td>\n",
       "      <td>0.0</td>\n",
       "      <td>0.0</td>\n",
       "      <td>0.0</td>\n",
       "      <td>0.0</td>\n",
       "      <td>0.0</td>\n",
       "      <td>0.0</td>\n",
       "      <td>0.0</td>\n",
       "      <td>0.0</td>\n",
       "      <td>0.0</td>\n",
       "      <td>0.0</td>\n",
       "    </tr>\n",
       "    <tr>\n",
       "      <th>2</th>\n",
       "      <td>16075.npy</td>\n",
       "      <td>0.0</td>\n",
       "      <td>0.0</td>\n",
       "      <td>0.0</td>\n",
       "      <td>0.0</td>\n",
       "      <td>0.0</td>\n",
       "      <td>0.0</td>\n",
       "      <td>0.0</td>\n",
       "      <td>0.0</td>\n",
       "      <td>0.0</td>\n",
       "      <td>0.0</td>\n",
       "      <td>0.0</td>\n",
       "      <td>0.0</td>\n",
       "      <td>0.0</td>\n",
       "      <td>0.0</td>\n",
       "      <td>0.0</td>\n",
       "    </tr>\n",
       "    <tr>\n",
       "      <th>3</th>\n",
       "      <td>16075.npy</td>\n",
       "      <td>0.0</td>\n",
       "      <td>0.0</td>\n",
       "      <td>0.0</td>\n",
       "      <td>0.0</td>\n",
       "      <td>0.0</td>\n",
       "      <td>0.0</td>\n",
       "      <td>0.0</td>\n",
       "      <td>0.0</td>\n",
       "      <td>0.0</td>\n",
       "      <td>0.0</td>\n",
       "      <td>0.0</td>\n",
       "      <td>0.0</td>\n",
       "      <td>0.0</td>\n",
       "      <td>0.0</td>\n",
       "      <td>0.0</td>\n",
       "    </tr>\n",
       "    <tr>\n",
       "      <th>4</th>\n",
       "      <td>16075.npy</td>\n",
       "      <td>0.0</td>\n",
       "      <td>0.0</td>\n",
       "      <td>0.0</td>\n",
       "      <td>0.0</td>\n",
       "      <td>0.0</td>\n",
       "      <td>0.0</td>\n",
       "      <td>0.0</td>\n",
       "      <td>0.0</td>\n",
       "      <td>0.0</td>\n",
       "      <td>0.0</td>\n",
       "      <td>0.0</td>\n",
       "      <td>0.0</td>\n",
       "      <td>0.0</td>\n",
       "      <td>0.0</td>\n",
       "      <td>0.0</td>\n",
       "    </tr>\n",
       "  </tbody>\n",
       "</table>\n",
       "</div>"
      ],
      "text/plain": [
       "   file_name  channel_0_col_0  channel_1_col_0  channel_2_col_0  \\\n",
       "0  16075.npy              0.0              0.0              0.0   \n",
       "1  16075.npy              0.0              0.0              0.0   \n",
       "2  16075.npy              0.0              0.0              0.0   \n",
       "3  16075.npy              0.0              0.0              0.0   \n",
       "4  16075.npy              0.0              0.0              0.0   \n",
       "\n",
       "   channel_3_col_0  channel_4_col_0  channel_5_col_0  channel_6_col_0  \\\n",
       "0              0.0              0.0              0.0              0.0   \n",
       "1              0.0              0.0              0.0              0.0   \n",
       "2              0.0              0.0              0.0              0.0   \n",
       "3              0.0              0.0              0.0              0.0   \n",
       "4              0.0              0.0              0.0              0.0   \n",
       "\n",
       "   channel_7_col_0  channel_8_col_0  channel_9_col_0  channel_10_col_0  \\\n",
       "0              0.0              0.0              0.0               0.0   \n",
       "1              0.0              0.0              0.0               0.0   \n",
       "2              0.0              0.0              0.0               0.0   \n",
       "3              0.0              0.0              0.0               0.0   \n",
       "4              0.0              0.0              0.0               0.0   \n",
       "\n",
       "   channel_11_col_0  channel_12_col_0  channel_13_col_0  channel_14_col_0  \n",
       "0               0.0               0.0               0.0               0.0  \n",
       "1               0.0               0.0               0.0               0.0  \n",
       "2               0.0               0.0               0.0               0.0  \n",
       "3               0.0               0.0               0.0               0.0  \n",
       "4               0.0               0.0               0.0               0.0  "
      ]
     },
     "execution_count": 24,
     "metadata": {},
     "output_type": "execute_result"
    }
   ],
   "source": [
    "df.head()"
   ]
  },
  {
   "cell_type": "code",
   "execution_count": 25,
   "metadata": {},
   "outputs": [
    {
     "data": {
      "text/plain": [
       "(100, 16)"
      ]
     },
     "execution_count": 25,
     "metadata": {},
     "output_type": "execute_result"
    }
   ],
   "source": [
    "df.shape"
   ]
  },
  {
   "cell_type": "code",
   "execution_count": null,
   "metadata": {},
   "outputs": [],
   "source": []
  }
 ],
 "metadata": {
  "kernelspec": {
   "display_name": "pytorch_env",
   "language": "python",
   "name": "python3"
  },
  "language_info": {
   "codemirror_mode": {
    "name": "ipython",
    "version": 3
   },
   "file_extension": ".py",
   "mimetype": "text/x-python",
   "name": "python",
   "nbconvert_exporter": "python",
   "pygments_lexer": "ipython3",
   "version": "3.12.3"
  }
 },
 "nbformat": 4,
 "nbformat_minor": 2
}
